{
 "cells": [
  {
   "cell_type": "code",
   "execution_count": 1,
   "metadata": {},
   "outputs": [],
   "source": [
    "def negopos(numero):\n",
    "    if (numero>=0):\n",
    "        print(\"El número es positivo\")\n",
    "    else:\n",
    "        print(\"El numero es negativo\")       "
   ]
  },
  {
   "cell_type": "code",
   "execution_count": 4,
   "metadata": {},
   "outputs": [
    {
     "name": "stdout",
     "output_type": "stream",
     "text": [
      "El numero es negativo\n"
     ]
    }
   ],
   "source": [
    "negopos(-5)"
   ]
  },
  {
   "cell_type": "code",
   "execution_count": 7,
   "metadata": {},
   "outputs": [],
   "source": [
    "def rango(numero):\n",
    "    if (numero>=0 and numero<=100):\n",
    "        print(\"El numero está en el rango 0-100\")\n",
    "    else:\n",
    "        print(\"El numero no está en el rango\")"
   ]
  },
  {
   "cell_type": "code",
   "execution_count": 13,
   "metadata": {},
   "outputs": [
    {
     "name": "stdout",
     "output_type": "stream",
     "text": [
      "El numero no está en el rango\n"
     ]
    }
   ],
   "source": [
    "rango(-1)"
   ]
  },
  {
   "cell_type": "code",
   "execution_count": 14,
   "metadata": {},
   "outputs": [],
   "source": [
    "def cuadrante(x,y):\n",
    "    if(x<0 and y<0):\n",
    "        print(\"El punto se encuentra en el tercer cuadrante\")\n",
    "    if(x<0 and y>0):\n",
    "        print(\"El punto se encuentra en el segundo cuadrante\")\n",
    "    if(x>0 and y>0):\n",
    "        print(\"El punto se encuentra en el primer cuadrante\")\n",
    "    if(x>0 and y<0):\n",
    "        print(\"El punto se encuentra en el cuarto cuadrante\")\n",
    "    if(x==0 or y==0):\n",
    "        print(\"El punto se encuentra en el origen\")\n",
    "        "
   ]
  },
  {
   "cell_type": "code",
   "execution_count": 19,
   "metadata": {},
   "outputs": [
    {
     "name": "stdout",
     "output_type": "stream",
     "text": [
      "El punto se encuentra en el cuarto cuadrante\n"
     ]
    }
   ],
   "source": [
    "cuadrante(1,-1)"
   ]
  },
  {
   "cell_type": "code",
   "execution_count": 24,
   "metadata": {},
   "outputs": [],
   "source": [
    "def cociente():\n",
    "    x1=int(input(\" \\nIngrese el primer número\\n \"))\n",
    "    x2=int(input(\" \\nIngrese el segundo número\\n \"))\n",
    "    resultado=int(x1/x2)\n",
    "    resto=x1%x2\n",
    "    print(\"Cociente: \"+str(resultado))\n",
    "    print(\"Resto: \"+str(resto))"
   ]
  },
  {
   "cell_type": "code",
   "execution_count": 26,
   "metadata": {},
   "outputs": [
    {
     "name": "stdout",
     "output_type": "stream",
     "text": [
      " \n",
      "Ingrese el primer número\n",
      " 95\n",
      " \n",
      "Ingrese el segundo número\n",
      " 15\n",
      "Cociente: 6\n",
      "Resto: 5\n"
     ]
    }
   ],
   "source": [
    "cociente()"
   ]
  },
  {
   "cell_type": "code",
   "execution_count": 47,
   "metadata": {},
   "outputs": [],
   "source": [
    "def bisiesto(numero):\n",
    "    resultado=numero%4\n",
    "    if(resultado==0):\n",
    "        if((numero%100)==0 and (numero%400) == 0):\n",
    "            print(\"El número \"+str(numero)+\" SI es un año bisiesto\")\n",
    "        else:\n",
    "            print(\"El número \"+str(numero)+\" NO es año bisiesto\")    \n",
    "    else:\n",
    "        print(\"El número\"+str(numero)+\" NO es año bisiesto\")\n",
    "    "
   ]
  },
  {
   "cell_type": "code",
   "execution_count": 48,
   "metadata": {},
   "outputs": [
    {
     "name": "stdout",
     "output_type": "stream",
     "text": [
      "El número 2000 SI es un año bisiesto\n"
     ]
    }
   ],
   "source": [
    "bisiesto(2000)"
   ]
  },
  {
   "cell_type": "code",
   "execution_count": 50,
   "metadata": {},
   "outputs": [],
   "source": [
    "def ajedrez():\n",
    "    letra = str(input(\" \\nIngrese la letra\\n \"))\n",
    "    numero = int(input(\" \\nIngrese el número\\n \"))\n",
    "    if(letra == 'A' or letra == 'C' or letra == 'E' or letra == 'G'):\n",
    "        if((numero%2)==0):\n",
    "            print(\"La casilla es negra\")\n",
    "        else:\n",
    "            print(\"La casilla es blanca\")\n",
    "    if(letra == 'B' or letra == 'D' or letra == 'F' or letra == 'H'):\n",
    "        if((numero%2)==0):\n",
    "            print(\"La casilla es blanca\")\n",
    "        else:\n",
    "            print(\"La casilla es negra\")"
   ]
  },
  {
   "cell_type": "code",
   "execution_count": 54,
   "metadata": {},
   "outputs": [
    {
     "name": "stdout",
     "output_type": "stream",
     "text": [
      " \n",
      "Ingrese la letra\n",
      " B\n",
      " \n",
      "Ingrese el número\n",
      " 1\n",
      "La casilla es negra\n"
     ]
    }
   ],
   "source": [
    "ajedrez()"
   ]
  }
 ],
 "metadata": {
  "kernelspec": {
   "display_name": "Python 3",
   "language": "python",
   "name": "python3"
  },
  "language_info": {
   "codemirror_mode": {
    "name": "ipython",
    "version": 3
   },
   "file_extension": ".py",
   "mimetype": "text/x-python",
   "name": "python",
   "nbconvert_exporter": "python",
   "pygments_lexer": "ipython3",
   "version": "3.7.6"
  }
 },
 "nbformat": 4,
 "nbformat_minor": 4
}
